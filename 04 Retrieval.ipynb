{
 "cells": [
  {
   "cell_type": "markdown",
   "id": "ce05d0b6-1ec7-485e-b00e-3709a26f7cda",
   "metadata": {},
   "source": [
    "# Retrieval\n",
    "이전 섹션에서 의미론적 검색의 기본 사항을 다루었고, 많은 사용 사례에서 잘 작동한다는 것을 확인했습니다. 하지만 일부 경우에는 잘 작동하지 않을 수도 있다는 것도 확인했고, 상황이 어떻게 잘못될 수 있는지도 보았습니다.\n",
    "\n",
    "이번에는 Retrieval에 대해 더 자세히 알아보고, 해당 실패했던 사례를 완화할 수 있는 방법에 대하여 알아 봅니다.."
   ]
  },
  {
   "cell_type": "markdown",
   "id": "7e0ff5ac-2094-4705-aab9-b00ea8024086",
   "metadata": {},
   "source": [
    "## Vectorestore retrieval\n",
    "\n",
    "<img src=\"fig10.png\" width=\"600\">\n",
    "\n",
    "* Vectorestore의 데이타 엑세스/인덱싱\n",
    "  - 기본 의미적 유사성(semantic similarity)\n",
    "  - 최대 한계 관련성(maximum marginal relevance)\n",
    "  - 메타데이터 포함\n",
    " \n",
    "* LLM 지원 검색\n",
    "\n",
    "Retrieval(검색)은 쿼리가 들어오고 분할된 청크에서 해당 쿼리와 관련된 가장 관련성이 높은 것을 찾는 것입니다."
   ]
  },
  {
   "cell_type": "code",
   "execution_count": 3,
   "id": "b0fbf41d",
   "metadata": {},
   "outputs": [],
   "source": [
    "import os\n",
    "import openai\n",
    "\n",
    "from dotenv import load_dotenv, find_dotenv\n",
    "_ = load_dotenv(find_dotenv()) # read local .env file\n",
    "\n",
    "openai.api_key  = os.environ['OPENAI_API_KEY']"
   ]
  },
  {
   "cell_type": "markdown",
   "id": "f36291c6",
   "metadata": {},
   "source": [
    "## Addressing Diversity: Maximum marginal relevance\n",
    "\n",
    "MMR(Maximum Marginal Relevance)의 아이디어는 항상 임베딩 공간에서 쿼리와 가장 유사한 문서를 가져오면 실제로는 특별한 경우 중 하나에서 본 것처럼 다양한 정보를 놓칠 수 있다는 것이다.\n",
    "\n",
    "<img src=\"fig11.png\" width=\"450\">\n",
    "\n",
    "요리사가 모든 흰 버섯에 대해 질문하는 예를 확인해보겠습니다.\r\n",
    "여기서 가장 유사한 결과를 살펴보면 이는 처음 두 문서가 될 입니다다. 여기에는 자실(fruiting body)체 및 모두 흰색이라는 쿼리와 유사한 많은 정보가 포함되어 있다.\r\n",
    "\r\n",
    "여기서 해당 버섯이 독성이 있는지와 같은 정보를 추가로 얻고자 한다면, 다양한 문서 세원를 는하므로 MMR을 사용하는 것이 중요하다.\r\n",
    "\r\n",
    "MMR의 기본 아돌입니다는\n",
    "\n",
    "* Vectorestore를 하면 에 질의\n",
    "* 'fetch_k' 개의 가장 유사한 답한 후변을 선택\n",
    "* 이 답변들 중에서 'k'개 가장 다양한 하는 것이다. 것이다."
   ]
  },
  {
   "cell_type": "markdown",
   "id": "da635504-6bba-49a9-b861-fbf33ca0b892",
   "metadata": {},
   "source": [
    "<img src=\"fig12.png\" width=\"350\">"
   ]
  },
  {
   "cell_type": "code",
   "execution_count": 5,
   "id": "cffcdcc5",
   "metadata": {},
   "outputs": [],
   "source": [
    "from langchain.vectorstores import Chroma\n",
    "from langchain_openai import OpenAIEmbeddings"
   ]
  },
  {
   "cell_type": "code",
   "execution_count": 6,
   "id": "f6fb109b",
   "metadata": {},
   "outputs": [],
   "source": [
    "embedding = OpenAIEmbeddings()"
   ]
  },
  {
   "cell_type": "code",
   "execution_count": 7,
   "id": "8af8c083",
   "metadata": {},
   "outputs": [],
   "source": [
    "texts = [\n",
    "    \"\"\"The Amanita phalloides has a large and imposing epigeous (aboveground) fruiting body (basidiocarp).\"\"\",\n",
    "    \"\"\"A mushroom with a large fruiting body is the Amanita phalloides. Some varieties are all-white.\"\"\",\n",
    "    \"\"\"A. phalloides, a.k.a Death Cap, is one of the most poisonous of all known mushrooms.\"\"\",\n",
    "]"
   ]
  },
  {
   "cell_type": "code",
   "execution_count": 8,
   "id": "2ba6682e",
   "metadata": {},
   "outputs": [],
   "source": [
    "smalldb = Chroma.from_texts(texts, embedding=embedding)"
   ]
  },
  {
   "cell_type": "code",
   "execution_count": 9,
   "id": "eb01b5db",
   "metadata": {},
   "outputs": [],
   "source": [
    "question = \"Tell me about all-white mushrooms with large fruiting bodies\""
   ]
  },
  {
   "cell_type": "code",
   "execution_count": 10,
   "id": "d50ddccb",
   "metadata": {},
   "outputs": [
    {
     "data": {
      "text/plain": [
       "[Document(metadata={}, page_content='A mushroom with a large fruiting body is the Amanita phalloides. Some varieties are all-white.'),\n",
       " Document(metadata={}, page_content='The Amanita phalloides has a large and imposing epigeous (aboveground) fruiting body (basidiocarp).')]"
      ]
     },
     "execution_count": 10,
     "metadata": {},
     "output_type": "execute_result"
    }
   ],
   "source": [
    "smalldb.similarity_search(question, k=2)"
   ]
  },
  {
   "cell_type": "code",
   "execution_count": 11,
   "id": "ccc65e2a",
   "metadata": {},
   "outputs": [
    {
     "data": {
      "text/plain": [
       "[Document(metadata={}, page_content='A mushroom with a large fruiting body is the Amanita phalloides. Some varieties are all-white.'),\n",
       " Document(metadata={}, page_content='A. phalloides, a.k.a Death Cap, is one of the most poisonous of all known mushrooms.')]"
      ]
     },
     "execution_count": 11,
     "metadata": {},
     "output_type": "execute_result"
    }
   ],
   "source": [
    "smalldb.max_marginal_relevance_search(question, k=2, fetch_k=3)"
   ]
  },
  {
   "cell_type": "code",
   "execution_count": 112,
   "id": "500c0f94-3586-48a2-9a0a-96acdb1921f2",
   "metadata": {},
   "outputs": [],
   "source": [
    "persist_directory = 'docs/chroma/'\n",
    "\n",
    "vectordb = Chroma(\n",
    "    embedding_function=embedding,\n",
    "    persist_directory=persist_directory\n",
    ")"
   ]
  },
  {
   "cell_type": "code",
   "execution_count": 15,
   "id": "ff76318c-bd69-4f0a-8f50-b2479aa8169b",
   "metadata": {},
   "outputs": [
    {
     "data": {
      "text/plain": [
       "208"
      ]
     },
     "execution_count": 15,
     "metadata": {},
     "output_type": "execute_result"
    }
   ],
   "source": [
    "vectordb._collection.count()"
   ]
  },
  {
   "cell_type": "code",
   "execution_count": 16,
   "id": "2f56ec7e",
   "metadata": {},
   "outputs": [],
   "source": [
    "question = \"what did they say about matlab?\"\n",
    "docs_ss = vectordb.similarity_search(question, k=3)"
   ]
  },
  {
   "cell_type": "code",
   "execution_count": 17,
   "id": "1737cf51",
   "metadata": {},
   "outputs": [
    {
     "data": {
      "text/plain": [
       "'those homeworks will be done in either MATLAB or in Octave, which is sort of — I \\nknow some people c'"
      ]
     },
     "execution_count": 17,
     "metadata": {},
     "output_type": "execute_result"
    }
   ],
   "source": [
    "docs_ss[0].page_content[:100]"
   ]
  },
  {
   "cell_type": "code",
   "execution_count": 18,
   "id": "2580496f",
   "metadata": {},
   "outputs": [
    {
     "data": {
      "text/plain": [
       "'those homeworks will be done in either MATLAB or in Octave, which is sort of — I \\nknow some people c'"
      ]
     },
     "execution_count": 18,
     "metadata": {},
     "output_type": "execute_result"
    }
   ],
   "source": [
    "docs_ss[1].page_content[:100]"
   ]
  },
  {
   "cell_type": "markdown",
   "id": "76586a5e",
   "metadata": {},
   "source": [
    "MMR에 따른 결과의 차이를 주목해 보세요."
   ]
  },
  {
   "cell_type": "code",
   "execution_count": 20,
   "id": "6c5be1e8",
   "metadata": {},
   "outputs": [],
   "source": [
    "docs_mmr = vectordb.max_marginal_relevance_search(question,k=3)"
   ]
  },
  {
   "cell_type": "code",
   "execution_count": 21,
   "id": "7211ca3b",
   "metadata": {},
   "outputs": [
    {
     "data": {
      "text/plain": [
       "'those homeworks will be done in either MATLAB or in Octave, which is sort of — I \\nknow some people c'"
      ]
     },
     "execution_count": 21,
     "metadata": {},
     "output_type": "execute_result"
    }
   ],
   "source": [
    "docs_mmr[0].page_content[:100]\n"
   ]
  },
  {
   "cell_type": "code",
   "execution_count": 135,
   "id": "6ba1e8dd",
   "metadata": {},
   "outputs": [
    {
     "data": {
      "text/plain": [
       "'into his office and he said, \"Oh, professor, professor, thank you so much for your \\nmachine learning class. I learned so much from it. There\\'s this stuff that I learned in your \\nclass, and I now use every day. And it\\'s helped me make lots of money, and here\\'s a \\npicture of my big house.\"  \\nSo my friend was very excited. He said, \"Wow. That\\'s great. I\\'m glad to hear this \\nmachine learning stuff was actually useful. So what was it that you learned? Was it \\nlogistic regression? Was it the PCA? Was it the data networks? What was it that you \\nlearned that was so helpful?\" And the student said, \"Oh, it was the MATLAB.\"  \\nSo for those of you that don\\'t know MATLAB yet, I hope you do learn it. It\\'s '"
      ]
     },
     "execution_count": 135,
     "metadata": {},
     "output_type": "execute_result"
    }
   ],
   "source": [
    "docs_mmr[1].page_content[:700]\n"
   ]
  },
  {
   "cell_type": "markdown",
   "id": "4c5c0606",
   "metadata": {},
   "source": [
    "### Addressing Specificity: working with metadata\n",
    "\n",
    "지난 강의에서 우리는 세 번째 강의에 대한 질문에 대한 답변이 다른 강의의 결과도 포함할 수 있음을 보여주었습니다.\n",
    "\n",
    "이 문제를 해결하기 위해 많은 벡터 저장소가 메타데이터에 대한 작업을 지원합니다.\n",
    "\n",
    "메타데이터는 포함된 각 청크에 대한 컨텍스트를 제공합니다."
   ]
  },
  {
   "cell_type": "code",
   "execution_count": 24,
   "id": "58821d26",
   "metadata": {},
   "outputs": [],
   "source": [
    "question = \"what did they say about regression in the third lecture?\""
   ]
  },
  {
   "cell_type": "code",
   "execution_count": 25,
   "id": "089cfbaf",
   "metadata": {},
   "outputs": [],
   "source": [
    "docs = vectordb.similarity_search(\n",
    "    question,\n",
    "    k=3,\n",
    "    filter={\"source\":\"docs/cs229_lectures/MachineLearning-Lecture03.pdf\"}\n",
    ")"
   ]
  },
  {
   "cell_type": "code",
   "execution_count": 26,
   "id": "301e5a0b",
   "metadata": {},
   "outputs": [
    {
     "name": "stdout",
     "output_type": "stream",
     "text": [
      "{'page': 0, 'source': 'docs/cs229_lectures/MachineLearning-Lecture03.pdf'}\n",
      "{'page': 4, 'source': 'docs/cs229_lectures/MachineLearning-Lecture03.pdf'}\n",
      "{'page': 6, 'source': 'docs/cs229_lectures/MachineLearning-Lecture03.pdf'}\n"
     ]
    }
   ],
   "source": [
    "for d in docs:\n",
    "    print(d.metadata)"
   ]
  },
  {
   "cell_type": "markdown",
   "id": "7cda7ba9",
   "metadata": {},
   "source": [
    "## Addressing Specificity: working with metadata using self-query retriever\n",
    "\n",
    "또 다른 검색 유형은 셀프 쿼리(self-query)이다.\r\n",
    "의미상으로 조회하려는 콘텐츠뿐만 아니라 필터링하려는 일부 메타데이터에 대한 언급도 포함하는 질문을 받을 때 유용하다.\r\n",
    "\r\n",
    "예를 들면 \"1980년에 제작된 외계인에 관한 영화는 무엇인가?\" 와 같은 질문에는 실제로 두 가지 구성 요소가 있다.\r\n",
    "\r\n",
    "의미론적인 부분으로 '외계인' 에 관한 영화이다. 그래서 우리는 영화 데이터베이스에서 외계인을 찾고자한다.\r\n",
    "그러나 여기서 추가적으로 '1980년'이라는 연도인 각 영화에 대한 메타데이터를 실제로 참조하는 부분도 있다.\r\n",
    "\r\n",
    "우리가 할 수 있는 일은 언어 모델 자체를 사용하여 원래 질문을 필터와 검색어라는 두 가지 별도 항목으로 분할하는 것이다.\r\n",
    "\r\n",
    "대부분의 벡터 저장소는 메타데이터 필터를 지원한다. 따라서 1980년과 같은 메타데이터를 기반으로 레코드를 쉽게 필터링할 수 있다.\n",
    "\n",
    "이를 해결하기 위해 LLM을 사용하여 다음을 추출하는 SelfQueryRetriever를 사용할 수 있습니다.\n",
    "\n",
    "벡터 검색에 사용할 쿼리 문자열 전달할 메타데이터 필터 대부분의 벡터 데이터베이스는 메타데이터 필터를 지원하므로 새 데이터베이스나 인덱스가 필요하지 않습니다.\n",
    "\n",
    "<img src=\"fig13.png\" width=\"350\">"
   ]
  },
  {
   "cell_type": "code",
   "execution_count": 139,
   "id": "843dd08c",
   "metadata": {},
   "outputs": [],
   "source": [
    "from langchain_openai import OpenAI\n",
    "from langchain.retrievers.self_query.base import SelfQueryRetriever\n",
    "from langchain.chains.query_constructor.base import AttributeInfo"
   ]
  },
  {
   "cell_type": "code",
   "execution_count": 143,
   "id": "39af7f4b",
   "metadata": {},
   "outputs": [],
   "source": [
    "metadata_field_info = [\n",
    "    AttributeInfo(\n",
    "        name=\"source\",\n",
    "        description=\"The lecture the chunk is from, should be one of `docs/cs229_lectures/MachineLearning-Lecture01.pdf`, `docs/cs229_lectures/MachineLearning-Lecture02.pdf`, or `docs/cs229_lectures/MachineLearning-Lecture03.pdf`\",\n",
    "        type=\"string\",\n",
    "    ),\n",
    "    AttributeInfo(\n",
    "        name=\"page\",\n",
    "        description=\"The page from the lecture\",\n",
    "        type=\"integer\",\n",
    "    ),\n",
    "]"
   ]
  },
  {
   "cell_type": "code",
   "execution_count": 145,
   "id": "039d929c-37b5-4fd5-b682-d16683bb25c3",
   "metadata": {},
   "outputs": [],
   "source": [
    "#!pip install lark"
   ]
  },
  {
   "cell_type": "code",
   "execution_count": 147,
   "id": "f0565a50",
   "metadata": {},
   "outputs": [],
   "source": [
    "document_content_description = \"Lecture notes\"\n",
    "llm = OpenAI(temperature=0)\n",
    "retriever = SelfQueryRetriever.from_llm(\n",
    "    llm,\n",
    "    vectordb,\n",
    "    document_content_description,\n",
    "    metadata_field_info,\n",
    "    verbose=True\n",
    ")"
   ]
  },
  {
   "cell_type": "code",
   "execution_count": 149,
   "id": "db43cb64",
   "metadata": {},
   "outputs": [],
   "source": [
    "question = \"what did they say about regression in the third lecture?\""
   ]
  },
  {
   "cell_type": "code",
   "execution_count": 151,
   "id": "f27db4e3",
   "metadata": {},
   "outputs": [],
   "source": [
    "docs = retriever.get_relevant_documents(question)"
   ]
  },
  {
   "cell_type": "code",
   "execution_count": 153,
   "id": "dde35e9c",
   "metadata": {},
   "outputs": [
    {
     "name": "stdout",
     "output_type": "stream",
     "text": [
      "{'page': 0, 'source': 'docs/cs229_lectures/MachineLearning-Lecture03.pdf'}\n",
      "{'page': 10, 'source': 'docs/cs229_lectures/MachineLearning-Lecture03.pdf'}\n",
      "{'page': 5, 'source': 'docs/cs229_lectures/MachineLearning-Lecture03.pdf'}\n",
      "{'page': 2, 'source': 'docs/cs229_lectures/MachineLearning-Lecture03.pdf'}\n"
     ]
    }
   ],
   "source": [
    "for d in docs:\n",
    "    print(d.metadata)"
   ]
  },
  {
   "cell_type": "markdown",
   "id": "bcfbd2c0",
   "metadata": {},
   "source": [
    "## Additional tricks: compression\n",
    "\n",
    "검색된 문서의 품질을 향상시키는 또 다른 방법은 압축입니다.\n",
    "\n",
    "압축(compression)에 대해서도 설명하자면, 이 방법은 검색된 구절 중 가장 관련성이 높은 부분만 추출하는 데 유용할 수 있다.\r\n",
    "\r\n",
    "예를 들어, 질문을 하면 처음 한두 문장만 관련 부분이더라도 저장된 문서 전체를 돌려받는다.\r\n",
    "\r\n",
    "압축을 사용하면 언어 모델을 통해 모든 문서를 실행하고 가장 관련성이 높은 세그먼트를 추출한 다음 가장 관련성이 높은 세그먼트만 최종 언어 모델 호출에 전달할 수 있다.\r\n",
    "\r\n",
    "이 방법은 언어 모델을 더 많이 호출해야 하지만, 가장 중요한 사항에만 최종 답에 대해 집중 때문에 다소 trade-off 가 존재한다고 볼 수 있습다때한 것입니다.\n",
    "\n",
    "<img src=\"fig14.png\" width=\"300\">"
   ]
  },
  {
   "cell_type": "code",
   "execution_count": 98,
   "id": "c470f138",
   "metadata": {},
   "outputs": [],
   "source": [
    "from langchain.retrievers import ContextualCompressionRetriever\n",
    "from langchain.retrievers.document_compressors import LLMChainExtractor"
   ]
  },
  {
   "cell_type": "code",
   "execution_count": 100,
   "id": "6e27f0b0",
   "metadata": {},
   "outputs": [],
   "source": [
    "def pretty_print_docs(docs):\n",
    "    print(f\"\\n{'-' * 100}\\n\".join([f\"Document {i+1}:\\n\\n\" + d.page_content for i, d in enumerate(docs)]))"
   ]
  },
  {
   "cell_type": "code",
   "execution_count": 39,
   "id": "a637e3e4",
   "metadata": {},
   "outputs": [],
   "source": [
    "# Wrap our vectorstore\n",
    "llm = OpenAI(temperature=0)\n",
    "compressor = LLMChainExtractor.from_llm(llm)"
   ]
  },
  {
   "cell_type": "code",
   "execution_count": 40,
   "id": "d54616c9",
   "metadata": {},
   "outputs": [],
   "source": [
    "compression_retriever = ContextualCompressionRetriever(\n",
    "    base_compressor=compressor,\n",
    "    base_retriever=vectordb.as_retriever()\n",
    ")"
   ]
  },
  {
   "cell_type": "code",
   "execution_count": 41,
   "id": "2e13abb5",
   "metadata": {},
   "outputs": [
    {
     "name": "stdout",
     "output_type": "stream",
     "text": [
      "Document 1:\n",
      "\n",
      "- those homeworks will be done in either MATLAB or in Octave\n",
      "- I know some people call it a free version of MATLAB\n",
      "- MATLAB is I guess part of the programming language that makes it very easy to write codes using matrices, to write code for numerical routines, to move data around, to plot data\n",
      "- it's sort of an extremely easy to learn tool to use for implementing a lot of learning algorithms\n",
      "- there's also a software package called Octave that you can download for free off the Internet\n",
      "- it has somewhat fewer features than MATLAB, but it's free, and for the purposes of this class, it will work for just about everything\n",
      "- once a colleague of mine at a different university, not at Stanford, actually teaches another machine learning course\n",
      "----------------------------------------------------------------------------------------------------\n",
      "Document 2:\n",
      "\n",
      "- those homeworks will be done in either MATLAB or in Octave\n",
      "- I know some people call it a free version of MATLAB\n",
      "- MATLAB is I guess part of the programming language that makes it very easy to write codes using matrices, to write code for numerical routines, to move data around, to plot data\n",
      "- it's sort of an extremely easy to learn tool to use for implementing a lot of learning algorithms\n",
      "- there's also a software package called Octave that you can download for free off the Internet\n",
      "- it has somewhat fewer features than MATLAB, but it's free, and for the purposes of this class, it will work for just about everything\n",
      "- once a colleague of mine at a different university, not at Stanford, actually teaches another machine learning course\n",
      "----------------------------------------------------------------------------------------------------\n",
      "Document 3:\n",
      "\n",
      "\"Oh, it was the MATLAB.\"\n",
      "----------------------------------------------------------------------------------------------------\n",
      "Document 4:\n",
      "\n",
      "\"Oh, it was the MATLAB.\"\n"
     ]
    }
   ],
   "source": [
    "question = \"what did they say about matlab?\"\n",
    "compressed_docs = compression_retriever.get_relevant_documents(question)\n",
    "pretty_print_docs(compressed_docs)"
   ]
  },
  {
   "cell_type": "markdown",
   "id": "ac7cc8ce",
   "metadata": {},
   "source": [
    "## Combining various techniques"
   ]
  },
  {
   "cell_type": "code",
   "execution_count": 43,
   "id": "d54a0845",
   "metadata": {},
   "outputs": [],
   "source": [
    "compression_retriever = ContextualCompressionRetriever(\n",
    "    base_compressor=compressor,\n",
    "    base_retriever=vectordb.as_retriever(search_type = \"mmr\")\n",
    ")"
   ]
  },
  {
   "cell_type": "code",
   "execution_count": 44,
   "id": "c24461ec",
   "metadata": {},
   "outputs": [
    {
     "name": "stdout",
     "output_type": "stream",
     "text": [
      "Document 1:\n",
      "\n",
      "- those homeworks will be done in either MATLAB or in Octave\n",
      "- I know some people call it a free version of MATLAB\n",
      "- MATLAB is I guess part of the programming language that makes it very easy to write codes using matrices, to write code for numerical routines, to move data around, to plot data\n",
      "- it's sort of an extremely easy to learn tool to use for implementing a lot of learning algorithms\n",
      "- there's also a software package called Octave that you can download for free off the Internet\n",
      "- it has somewhat fewer features than MATLAB, but it's free, and for the purposes of this class, it will work for just about everything\n",
      "- once a colleague of mine at a different university, not at Stanford, actually teaches another machine learning course\n",
      "----------------------------------------------------------------------------------------------------\n",
      "Document 2:\n",
      "\n",
      "\"Oh, it was the MATLAB.\"\n",
      "----------------------------------------------------------------------------------------------------\n",
      "Document 3:\n",
      "\n",
      "- \"one very successful approach is to use a learning algorithm and have a computer learn by itself how to, say, recognize your handwriting.\"\n",
      "- \"Learning algorithms has also made I guess significant inroads in what's sometimes called database mining.\"\n",
      "- \"applying learning algorithms to them can turn raw medical records into what I might loosely call medical knowledge\"\n",
      "- \"medical knowledge that's derived by applying learning algorithms to the sorts of medical records that hospitals have just been building over the last 15, 20 years in an electronic format.\"\n"
     ]
    }
   ],
   "source": [
    "question = \"what did they say about matlab?\"\n",
    "compressed_docs = compression_retriever.get_relevant_documents(question)\n",
    "pretty_print_docs(compressed_docs)"
   ]
  },
  {
   "cell_type": "markdown",
   "id": "ad8dad2e",
   "metadata": {},
   "source": [
    "## Other types of retrieval\n",
    "\n",
    "vectordb가 문서를 검색하는 유일한 도구가 아니라는 점은 주목할 가치가 있습니다.\n",
    "\n",
    "LangChain 검색기 추상화에는 TF-IDF 또는 SVM과 같은 문서를 검색하는 다른 방법이 포함됩니다."
   ]
  },
  {
   "cell_type": "code",
   "execution_count": 46,
   "id": "74946d8c",
   "metadata": {},
   "outputs": [],
   "source": [
    "from langchain.retrievers import SVMRetriever\n",
    "from langchain.retrievers import TFIDFRetriever\n",
    "from langchain.document_loaders import PyPDFLoader\n",
    "from langchain.text_splitter import RecursiveCharacterTextSplitter\n",
    "import warnings\n",
    "\n",
    "warnings.filterwarnings(\"ignore\")"
   ]
  },
  {
   "cell_type": "code",
   "execution_count": 47,
   "id": "21b31249",
   "metadata": {},
   "outputs": [],
   "source": [
    "# Load PDF\n",
    "loader = PyPDFLoader(\"docs/cs229_lectures/MachineLearning-Lecture01.pdf\")\n",
    "pages = loader.load()\n",
    "all_page_text=[p.page_content for p in pages]\n",
    "joined_page_text=\" \".join(all_page_text)\n",
    "\n",
    "# Split\n",
    "text_splitter = RecursiveCharacterTextSplitter(chunk_size = 1500,chunk_overlap = 150)\n",
    "splits = text_splitter.split_text(joined_page_text)"
   ]
  },
  {
   "cell_type": "code",
   "execution_count": 48,
   "id": "1aaf8d94",
   "metadata": {},
   "outputs": [],
   "source": [
    "# Retrieve\n",
    "svm_retriever = SVMRetriever.from_texts(splits,embedding)\n",
    "tfidf_retriever = TFIDFRetriever.from_texts(splits)"
   ]
  },
  {
   "cell_type": "code",
   "execution_count": 49,
   "id": "5eda3eda",
   "metadata": {},
   "outputs": [
    {
     "data": {
      "text/plain": [
       "Document(metadata={}, page_content=\"Testing, testing. Okay, cool. Thanks.   So all right, online resources. The class has a home page, so it's in on the handouts. I \\nwon't write on the chalkboard — http:// cs229.stanford.edu. And so when there are \\nhomework assignments or things like that, we usually won't sort of — in the mission of \\nsaving trees, we will usually not give out many handouts in class. So homework \\nassignments, homework solutions will be posted online at the course home page.  \\nAs far as this class, I've also written, and I guess I've also revised every year a set of \\nfairly detailed lecture notes that cover the technical content of this class. And so if you \\nvisit the course homepage, you'll also find the detailed lecture notes that go over in detail \\nall the math and equations and so on that I'll be doing in class.  \\nThere's also a newsgroup, su.class.cs229, also written on the handout. This is a \\nnewsgroup that's sort of a forum for people in the class to get to know each other and \\nhave whatever discussions you want to have amongst yourselves. So the class newsgroup \\nwill not be monitored by the TAs and me. But this is a place for you to form study groups \\nor find project partners or discuss homework problems and so on, and it's not monitored \\nby the TAs and me. So feel free to talk trash about this class there.  \\nIf you want to contact the teaching staff, please use the email address written down here, \\ncs229-qa@cs.stanford.edu. This goes to an account that's read by all the TAs and me. So\")"
      ]
     },
     "execution_count": 49,
     "metadata": {},
     "output_type": "execute_result"
    }
   ],
   "source": [
    "question = \"What are major topics for this class?\"\n",
    "docs_svm=svm_retriever.get_relevant_documents(question, dual=True)\n",
    "docs_svm[0]"
   ]
  },
  {
   "cell_type": "code",
   "execution_count": 50,
   "id": "443aec10",
   "metadata": {},
   "outputs": [
    {
     "data": {
      "text/plain": [
       "Document(metadata={}, page_content=\"yourselves. You can also come and talk to me or the TAs if you want to brainstorm ideas \\nwith us.  \\nOkay. So one more organizational question. I'm curious, how many of you know \\nMATLAB? Wow, cool, quite a lot. Okay. So as part of the — act ually how many of you \\nknow Octave or have used Octave? Oh, okay, much smaller number.  \\nSo as part of this class, especially in the homeworks, we'll ask you to implement a few \\nprograms, a few machine learning algorithms as part of the homeworks. And most of  those homeworks will be done in either MATLAB or in Octave, which is sort of — I \\nknow some people call it a free version of MATLAB, which it sort of is, sort of isn't.  \\nSo I guess for those of you that haven't seen MATLAB before, and I know most of you \\nhave, MATLAB is I guess part of the programming language that makes it very easy to \\nwrite codes using matrices, to write code for numerical routines, to move data around, to \\nplot data. And it's sort of an extremely easy to learn tool to use for implementing a lot of \\nlearning algorithms.  \\nAnd in case some of you want to work on your own home computer or something if you \\ndon't have a MATLAB license, for the purposes of this class, there's also — [inaudible] \\nwrite that down [inaudible] MATLAB — there' s also a software package called Octave \\nthat you can download for free off the Internet. And it has somewhat fewer features than \\nMATLAB, but it's free, and for the purposes of this class, it will work for just about \\neverything.\")"
      ]
     },
     "execution_count": 50,
     "metadata": {},
     "output_type": "execute_result"
    }
   ],
   "source": [
    "question = \"what did they say about matlab?\"\n",
    "docs_tfidf=tfidf_retriever.get_relevant_documents(question)\n",
    "docs_tfidf[0]"
   ]
  }
 ],
 "metadata": {
  "kernelspec": {
   "display_name": "Python 3 (ipykernel)",
   "language": "python",
   "name": "python3"
  },
  "language_info": {
   "codemirror_mode": {
    "name": "ipython",
    "version": 3
   },
   "file_extension": ".py",
   "mimetype": "text/x-python",
   "name": "python",
   "nbconvert_exporter": "python",
   "pygments_lexer": "ipython3",
   "version": "3.12.4"
  }
 },
 "nbformat": 4,
 "nbformat_minor": 5
}
