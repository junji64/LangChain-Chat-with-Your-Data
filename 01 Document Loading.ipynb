{
 "cells": [
  {
   "cell_type": "markdown",
   "id": "ddd23bb4",
   "metadata": {},
   "source": [
    "# LangChain Chat with Your Data"
   ]
  },
  {
   "cell_type": "markdown",
   "id": "d4933ef9",
   "metadata": {},
   "source": [
    "<!--img src=\"https://github.com/ksm26/LangChain-Chat-with-Your-Data/raw/main/images/L1-Document_loading.png\" width=500-->\n",
    "\n",
    "## Retrieval augmented generation\n",
    " \n",
    "검색 증강 생성(retrieval augmented generation, RAG)에서 LLM은 실행의 일부로 외부 데이터 세트에서 컨텍스트 문서를 검색합니다.\n",
    "\n",
    "이는 특정 문서(예: PDF, 비디오 세트 등)에 대해 질문하려는 경우에 유용합니다.\n",
    "\n",
    "![overview.jpeg](overview.jpeg)"
   ]
  },
  {
   "cell_type": "markdown",
   "id": "76fddb64",
   "metadata": {},
   "source": [
    "## Document Loading\n",
    "\n",
    "오디오 및 비디오를 포함한 다양한 데이터 소스를 처리하기 위해 LangChain에서 제공하는 80개 이상의 고유한 로더(loader)에 액세스합니다.\n",
    "\n",
    "<img src=\"https://img1.daumcdn.net/thumb/R1280x0/?scode=mtistory2&fname=https%3A%2F%2Fblog.kakaocdn.net%2Fdn%2FbgnoaH%2FbtsITVVTJFb%2FIk46LYmguStdSwiIDDJXa1%2Fimg.png\" width=\"650\">\n",
    "\n",
    "<!-- ![Document Loaders](https://img1.daumcdn.net/thumb/R1280x0/?scode=mtistory2&fname=https%3A%2F%2Fblog.kakaocdn.net%2Fdn%2FbgnoaH%2FbtsITVVTJFb%2FIk46LYmguStdSwiIDDJXa1%2Fimg.png) -->\n",
    "* 로더(loader)는 데이터 액세스 및 변환의 세부 사항을 처리합니다.\n",
    "  - Accessing\n",
    "    - Web Sites\n",
    "    - Data Bases\n",
    "    - YouTube\n",
    "    - arXiv\n",
    "    - ...\n",
    "  - Data Types\n",
    "    - PDF\n",
    "    - HTML\n",
    "    - JSON\n",
    "    - Word, PowerPoint,\n",
    "    - ...\n",
    "   \n",
    "      \n",
    "* Returns a list of \"Document' objects:\n",
    "```\n",
    "[\n",
    "Document(page_content=\"MachineLearning-Lecture01 \\nInstructor (Andrew Ng): Okay. Good morning, Welcome to CS229 ...', metadata={'source': 'docs/cs229_lectures/MacchineLearning-Lecture01.pdf', 'page':0})\n",
    "...\n",
    "Document(page_content=\"[End of Audio] \\nDuration: 69 minutes', metadata={'source': 'docs/cs229_lectures/MacchineLearning-Lecture01.pdf', 'page':21})\n",
    "]\n",
    "```"
   ]
  },
  {
   "cell_type": "code",
   "execution_count": 94,
   "id": "1a3997e6",
   "metadata": {},
   "outputs": [],
   "source": [
    "import os\n",
    "import openai\n",
    "import sys\n",
    "#sys.path.append('../..')\n",
    "\n",
    "from dotenv import load_dotenv, find_dotenv\n",
    "_ = load_dotenv(find_dotenv()) # read local .env file\n",
    "\n",
    "openai.api_key  = os.environ['OPENAI_API_KEY']"
   ]
  },
  {
   "cell_type": "markdown",
   "id": "9d7775a0",
   "metadata": {},
   "source": [
    "## PDFs\n",
    "\n",
    "Andrew Ng의 유명한 CS229 코스에서 PDF [transcript](https://see.stanford.edu/materials/aimlcs229/transcripts/MachineLearning-Lecture01.pdf)을 로드해 봅시다!\n",
    "이러한 문서는 자동 전사(transcription)의 결과이므로 단어와 문장이 예기치 않게 분리되는 경우가 있습니다."
   ]
  },
  {
   "cell_type": "code",
   "execution_count": 97,
   "id": "83e9b600",
   "metadata": {
    "scrolled": true
   },
   "outputs": [],
   "source": [
    "#! pip install pypdf \n",
    "from langchain_community.document_loaders import PyPDFLoader\n",
    "\n",
    "loader = PyPDFLoader(\"docs/cs229_lectures/MachineLearning-Lecture01.pdf\")\n",
    "pages = loader.load()"
   ]
  },
  {
   "cell_type": "markdown",
   "id": "327f447f",
   "metadata": {},
   "source": [
    "Each page is a `Document`.\n",
    "\n",
    "A `Document` contains text (`page_content`) and `metadata`."
   ]
  },
  {
   "cell_type": "code",
   "execution_count": 99,
   "id": "fb723453",
   "metadata": {},
   "outputs": [
    {
     "data": {
      "text/plain": [
       "22"
      ]
     },
     "execution_count": 99,
     "metadata": {},
     "output_type": "execute_result"
    }
   ],
   "source": [
    "len(pages)"
   ]
  },
  {
   "cell_type": "code",
   "execution_count": 101,
   "id": "11164363",
   "metadata": {},
   "outputs": [],
   "source": [
    "page = pages[0]"
   ]
  },
  {
   "cell_type": "code",
   "execution_count": 103,
   "id": "ffee301f",
   "metadata": {},
   "outputs": [
    {
     "name": "stdout",
     "output_type": "stream",
     "text": [
      "MachineLearning-Lecture01  \n",
      "Instructor (Andrew Ng): Okay. Good morning. Welcome to CS229, the machine \n",
      "learning class. So what I wanna do today is just spend a little time going over the logistics \n",
      "of the class, and then we'll start to talk a bit about machine learning.  \n",
      "By way of introduction, my name's Andrew Ng and I'll be instructor for this class. And so \n",
      "I personally work in machine learning, and I've worked on it for about 15 years now, and \n",
      "I actually think that machine learning is the \n"
     ]
    }
   ],
   "source": [
    "print(page.page_content[0:500])"
   ]
  },
  {
   "cell_type": "code",
   "execution_count": 107,
   "id": "b6d47558",
   "metadata": {},
   "outputs": [
    {
     "data": {
      "text/plain": [
       "{'source': 'docs/cs229_lectures/MachineLearning-Lecture01.pdf', 'page': 5}"
      ]
     },
     "execution_count": 107,
     "metadata": {},
     "output_type": "execute_result"
    }
   ],
   "source": [
    "pages[5].metadata"
   ]
  },
  {
   "cell_type": "markdown",
   "id": "45136ed8",
   "metadata": {},
   "source": [
    "## YouTube"
   ]
  },
  {
   "cell_type": "code",
   "execution_count": 36,
   "id": "20de74ed",
   "metadata": {},
   "outputs": [],
   "source": [
    "# Old Obsolete\n",
    "# from langchain.document_loaders.generic import GenericLoader\n",
    "# from langchain.document_loaders.parsers import OpenAIWhisperParser\n",
    "# from langchain.document_loaders.blob_loaders.youtube_audio import YoutubeAudioLoader\n",
    "# # ! pip install yt_dlp\n",
    "# # ! pip install pydub\n",
    "# url=\"https://www.youtube.com/watch?v=jGwO_UgTS7I\"\n",
    "# save_dir=\"docs/youtube/\"\n",
    "# loader = GenericLoader(\n",
    "#     YoutubeAudioLoader([url],save_dir),\n",
    "#     OpenAIWhisperParser()\n",
    "# )\n",
    "# docs = loader.load()"
   ]
  },
  {
   "cell_type": "code",
   "execution_count": 110,
   "id": "15c3197a-094a-4aff-aee0-1813aa4826b3",
   "metadata": {},
   "outputs": [],
   "source": [
    "#!pip install pytube\n",
    "from pytube import extract\n",
    "from langchain_community.document_loaders import YoutubeLoader\n",
    "\n",
    "video_url = 'https://youtu.be/jGwO_UgTS7I?si=ukkUH2Yk-ut9BVGB'\n",
    "video_id = extract.video_id(video_url)\n",
    "loader = YoutubeLoader(video_id)\n",
    "docs = loader.load()"
   ]
  },
  {
   "cell_type": "code",
   "execution_count": 112,
   "id": "9b431978-2895-4b19-8094-df9d28fa989c",
   "metadata": {},
   "outputs": [
    {
     "data": {
      "text/plain": [
       "1"
      ]
     },
     "execution_count": 112,
     "metadata": {},
     "output_type": "execute_result"
    }
   ],
   "source": [
    "len(docs)"
   ]
  },
  {
   "cell_type": "code",
   "execution_count": 40,
   "id": "68fc702b",
   "metadata": {
    "scrolled": true
   },
   "outputs": [
    {
     "data": {
      "text/plain": [
       "\"Welcome to CS229 Machine Learning. Uh, some of you know that this class has been taught at Stanford for a long time. And this is often the course that, um, I most look forward to teaching each year because this is where we've helped I think, several generations of Stanford students become experts in machine learning, go on to build many of their products and services and startups that I'm sure many of you are pre- or all of you are using, uh, uh, today. Um, so what I want to do today was spend s\""
      ]
     },
     "execution_count": 40,
     "metadata": {},
     "output_type": "execute_result"
    }
   ],
   "source": [
    "docs[0].page_content[0:500]"
   ]
  },
  {
   "cell_type": "code",
   "execution_count": 114,
   "id": "8deefcd8",
   "metadata": {},
   "outputs": [
    {
     "data": {
      "text/plain": [
       "'머신 러닝이란 뭘까요 그이 비디오에서는 그게 뭔지 정의를 한번 배워보고 언제 적용하고 싶은지 알게 될 겁니다 함께 살펴보도록 하겠습니다 자 여기아서 세미엘이라는 그 학자가 제시한 머신러닝의 정의가 쓰여 있는데 다음과 같습니다 그는 어떻게 정의했냐면요 머신 러닝은 이와 정의했습니다 feeld of the that gives computers that ability explicitely 즉 명시적으로 믹스 플레이 세팅과 명시적으로 직접 프로그래밍하지 않고도 컴퓨터한테 학습할 수 있는 능력을 제공하는 연구 분야다라고 이렇게 정의했는데요 사실이 세뮤엘이라는이 분의 명성은 한 1950년대에 지금 여기 보여지고 있는요 그림과 같은 체커 게임 프로그램을 만드셨습니다 근데이 프로그램이 놀라운 점은요 자신이 체커를 잘 두는 선수가 아니었는데도 불구하고 그가 한 일은 컴퓨터가 스스로 수만개의 게임을 플레이 하도록 이렇게 프로그래밍함으로써이 프로그램 그 게임 프로그램을 만들었다고 보시면 됩니다 결국에 '"
      ]
     },
     "execution_count": 114,
     "metadata": {},
     "output_type": "execute_result"
    }
   ],
   "source": [
    "video_url = 'https://youtu.be/CQ0tUe9tu5g?si=pD6Lnf5l5oDyXvMe'\n",
    "video_id = extract.video_id(video_url)\n",
    "loader = YoutubeLoader(video_id,language='ko')\n",
    "docs = loader.load()\n",
    "docs[0].page_content[0:500]"
   ]
  },
  {
   "cell_type": "markdown",
   "id": "aeda4c2b",
   "metadata": {},
   "source": [
    "## URLs"
   ]
  },
  {
   "cell_type": "code",
   "execution_count": 85,
   "id": "bc8011ca",
   "metadata": {},
   "outputs": [],
   "source": [
    "from langchain_community.document_loaders import WebBaseLoader\n",
    "\n",
    "loader = WebBaseLoader(\"https://en.wikipedia.org/wiki/Artificial_intelligence\")"
   ]
  },
  {
   "cell_type": "code",
   "execution_count": 51,
   "id": "00257418",
   "metadata": {},
   "outputs": [],
   "source": [
    "docs = loader.load()"
   ]
  },
  {
   "cell_type": "code",
   "execution_count": 116,
   "id": "612fa4eb-badf-46dd-aef1-1172c93d3f0b",
   "metadata": {},
   "outputs": [
    {
     "data": {
      "text/plain": [
       "1"
      ]
     },
     "execution_count": 116,
     "metadata": {},
     "output_type": "execute_result"
    }
   ],
   "source": [
    "len(docs)"
   ]
  },
  {
   "cell_type": "code",
   "execution_count": 53,
   "id": "2828f513",
   "metadata": {},
   "outputs": [
    {
     "name": "stdout",
     "output_type": "stream",
     "text": [
      "\n",
      "\n",
      "\n",
      "\n",
      "Artificial intelligence - Wikipedia\n",
      "\n",
      "\n",
      "\n",
      "\n",
      "\n",
      "\n",
      "\n",
      "\n",
      "\n",
      "\n",
      "\n",
      "\n",
      "\n",
      "\n",
      "\n",
      "\n",
      "\n",
      "\n",
      "\n",
      "\n",
      "\n",
      "\n",
      "\n",
      "\n",
      "\n",
      "\n",
      "Jump to content\n",
      "\n",
      "\n",
      "\n",
      "\n",
      "\n",
      "\n",
      "\n",
      "Main menu\n",
      "\n",
      "\n",
      "\n",
      "\n",
      "\n",
      "Main menu\n",
      "move to sidebar\n",
      "hide\n",
      "\n",
      "\n",
      "\n",
      "\t\tNavigation\n",
      "\t\n",
      "\n",
      "\n",
      "Main pageContentsCurrent eventsRandom articleAbout WikipediaContact us\n",
      "\n",
      "\n",
      "\n",
      "\n",
      "\n",
      "\t\tContribute\n",
      "\t\n",
      "\n",
      "\n",
      "HelpLearn to editCommunity portalRecent changesUpload file\n",
      "\n",
      "\n",
      "\n",
      "\n",
      "\n",
      "\n",
      "\n",
      "\n",
      "\n",
      "\n",
      "\n",
      "\n",
      "\n",
      "\n",
      "\n",
      "\n",
      "\n",
      "\n",
      "\n",
      "Search\n",
      "\n",
      "\n",
      "\n",
      "\n",
      "\n",
      "\n",
      "\n",
      "\n",
      "\n",
      "\n",
      "\n",
      "Search\n",
      "\n",
      "\n",
      "\n",
      "\n",
      "\n",
      "\n",
      "\n",
      "\n",
      "\n",
      "\n",
      "\n",
      "\n",
      "\n",
      "\n",
      "\n",
      "\n",
      "\n",
      "\n",
      "\n",
      "\n",
      "\n",
      "\n",
      "Appearance\n",
      "\n",
      "\n",
      "\n",
      "\n",
      "\n",
      "\n",
      "\n",
      "\n",
      "\n",
      "\n",
      "\n",
      "\n",
      "\n",
      "\n",
      "\n",
      "\n",
      "Donate\n",
      "\n",
      "Create account\n",
      "\n",
      "Log in\n",
      "\n",
      "\n",
      "\n",
      "\n",
      "\n",
      "\n",
      "\n",
      "\n",
      "Personal tools\n",
      "\n",
      "\n",
      "\n",
      "\n",
      "\n",
      "Donate Create account Log in\n",
      "\n",
      "\n",
      "\n",
      "\n",
      "\n",
      "\t\tPages\n"
     ]
    }
   ],
   "source": [
    "print(docs[0].page_content[:500])"
   ]
  },
  {
   "cell_type": "markdown",
   "id": "09f05dd9",
   "metadata": {},
   "source": [
    "## Notion\n",
    "\n",
    "[이 사이트](https://yolospace.notion.site/Blendle-s-Employee-Handbook-e31bff7da17346ee99f531087d8b133f)와 같은 Notion site의 예로서 [여기](https://python.langchain.com/docs/integrations/document_loaders/notion/#1-create-a-notion-table-database)의 단계를 따라 :\n",
    "\n",
    "* 페이지를 자신의 Notion 공간에 복제하고 `Markdown/CSV`로 내보냅니다.\n",
    "* 압축을 풀고 Notion 페이지에 대한 마크다운 파일이 포함된 폴더로 저장합니다.\n",
    "\n",
    "<img src=\"image.png\" width=\"500\">\n",
    "<!-- ![image.png](./image.png) -->"
   ]
  },
  {
   "cell_type": "code",
   "execution_count": 122,
   "id": "b0ccd740",
   "metadata": {},
   "outputs": [],
   "source": [
    "from langchain_community.document_loaders import NotionDirectoryLoader\n",
    "loader = NotionDirectoryLoader(\"docs/Notion_DB\")"
   ]
  },
  {
   "cell_type": "code",
   "execution_count": 124,
   "id": "7b1da7b6",
   "metadata": {},
   "outputs": [],
   "source": [
    "docs = loader.load()"
   ]
  },
  {
   "cell_type": "code",
   "execution_count": 126,
   "id": "ef2b74cc-a601-440a-a5f6-2773d0f4756b",
   "metadata": {},
   "outputs": [
    {
     "data": {
      "text/plain": [
       "48"
      ]
     },
     "execution_count": 126,
     "metadata": {},
     "output_type": "execute_result"
    }
   ],
   "source": [
    "len(docs)"
   ]
  },
  {
   "cell_type": "code",
   "execution_count": 63,
   "id": "4c4733cb",
   "metadata": {},
   "outputs": [
    {
     "name": "stdout",
     "output_type": "stream",
     "text": [
      "# Blendle's Employee Handbook\n",
      "\n",
      "This is a living document with everything we've learned working with people while running a startup. And, of course, we continue to learn. Therefore it's a document that\n"
     ]
    }
   ],
   "source": [
    "print(docs[0].page_content[0:200])"
   ]
  },
  {
   "cell_type": "code",
   "execution_count": 65,
   "id": "91f55a61",
   "metadata": {},
   "outputs": [
    {
     "data": {
      "text/plain": [
       "{'source': \"docs\\\\Notion_DB\\\\Blendle's Employee Handbook 1f049c3723744841b572dfd7781e71c4.md\"}"
      ]
     },
     "execution_count": 65,
     "metadata": {},
     "output_type": "execute_result"
    }
   ],
   "source": [
    "docs[0].metadata"
   ]
  }
 ],
 "metadata": {
  "kernelspec": {
   "display_name": "Python 3 (ipykernel)",
   "language": "python",
   "name": "python3"
  },
  "language_info": {
   "codemirror_mode": {
    "name": "ipython",
    "version": 3
   },
   "file_extension": ".py",
   "mimetype": "text/x-python",
   "name": "python",
   "nbconvert_exporter": "python",
   "pygments_lexer": "ipython3",
   "version": "3.12.4"
  }
 },
 "nbformat": 4,
 "nbformat_minor": 5
}
