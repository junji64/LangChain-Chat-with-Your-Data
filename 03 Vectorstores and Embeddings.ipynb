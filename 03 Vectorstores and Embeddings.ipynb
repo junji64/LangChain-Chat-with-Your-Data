{
 "cells": [
  {
   "cell_type": "markdown",
   "id": "bf6e7844",
   "metadata": {},
   "source": [
    "## Vectorstores and Embeddings\n",
    "\n",
    "Recall the overall workflow for retrieval augmented generation (RAG):"
   ]
  },
  {
   "cell_type": "markdown",
   "id": "0abc56c6",
   "metadata": {},
   "source": [
    "<img src=\"fig3.jpg\" width=\"600\">"
   ]
  },
  {
   "cell_type": "markdown",
   "id": "8f62eaf4",
   "metadata": {},
   "source": [
    "### Vectorstores\n",
    "<img src=\"fig4.png\" width=\"400\">"
   ]
  },
  {
   "cell_type": "markdown",
   "id": "904efaa6",
   "metadata": {},
   "source": [
    "### Embeddings\n",
    "\n",
    "<img src=\"fig5.png\" width=\"500\">\n",
    "\n",
    "<img src=\"fig6.png\" width=\"600\">"
   ]
  },
  {
   "cell_type": "markdown",
   "id": "820d95ab",
   "metadata": {},
   "source": [
    "### Vector Store\n",
    "\n",
    "<img src=\"fig7.png\" width=\"550\">\n",
    "\n",
    "### Vector Store/Database\n",
    "\n",
    "<img src=\"fig9.png\" width=\"600\">"
   ]
  },
  {
   "cell_type": "code",
   "execution_count": 115,
   "id": "dc7b6ce9",
   "metadata": {},
   "outputs": [],
   "source": [
    "import os\n",
    "import openai\n",
    "\n",
    "from dotenv import load_dotenv, find_dotenv\n",
    "_ = load_dotenv(find_dotenv()) # read local .env file\n",
    "\n",
    "openai.api_key  = os.environ['OPENAI_API_KEY']"
   ]
  },
  {
   "cell_type": "markdown",
   "id": "70198cb9",
   "metadata": {},
   "source": [
    "We just discussed Document Loading and Splitting."
   ]
  },
  {
   "cell_type": "code",
   "execution_count": 119,
   "id": "1a8e03c7",
   "metadata": {},
   "outputs": [],
   "source": [
    "from langchain.document_loaders import PyPDFLoader\n",
    "\n",
    "# Load PDF\n",
    "loaders = [\n",
    "    # Duplicate documents on purpose - messy data\n",
    "    PyPDFLoader(\"docs/cs229_lectures/MachineLearning-Lecture01.pdf\"),\n",
    "    PyPDFLoader(\"docs/cs229_lectures/MachineLearning-Lecture01.pdf\"),\n",
    "    PyPDFLoader(\"docs/cs229_lectures/MachineLearning-Lecture02.pdf\"),\n",
    "    PyPDFLoader(\"docs/cs229_lectures/MachineLearning-Lecture03.pdf\")\n",
    "]\n",
    "docs = []\n",
    "for loader in loaders:\n",
    "    docs.extend(loader.load())"
   ]
  },
  {
   "cell_type": "code",
   "execution_count": 121,
   "id": "ff651eaf",
   "metadata": {},
   "outputs": [],
   "source": [
    "# Split\n",
    "from langchain.text_splitter import RecursiveCharacterTextSplitter\n",
    "text_splitter = RecursiveCharacterTextSplitter(\n",
    "    chunk_size = 1500,\n",
    "    chunk_overlap = 150\n",
    ")"
   ]
  },
  {
   "cell_type": "code",
   "execution_count": 123,
   "id": "0c0f35f7",
   "metadata": {},
   "outputs": [],
   "source": [
    "splits = text_splitter.split_documents(docs)"
   ]
  },
  {
   "cell_type": "code",
   "execution_count": 125,
   "id": "ca8b80bb",
   "metadata": {},
   "outputs": [
    {
     "data": {
      "text/plain": [
       "208"
      ]
     },
     "execution_count": 125,
     "metadata": {},
     "output_type": "execute_result"
    }
   ],
   "source": [
    "len(splits)"
   ]
  },
  {
   "cell_type": "markdown",
   "id": "aa5a3738",
   "metadata": {},
   "source": [
    "### Embeddings\n",
    "Let's take our splits and embed them."
   ]
  },
  {
   "cell_type": "code",
   "execution_count": 127,
   "id": "cb1c2a6e",
   "metadata": {},
   "outputs": [],
   "source": [
    "from langchain_openai import OpenAIEmbeddings\n",
    "embedding = OpenAIEmbeddings()"
   ]
  },
  {
   "cell_type": "code",
   "execution_count": 60,
   "id": "6553e0be",
   "metadata": {},
   "outputs": [],
   "source": [
    "sentence1 = \"i like dogs\"\n",
    "sentence2 = \"i like canines\"\n",
    "sentence3 = \"the weather is ugly outside\""
   ]
  },
  {
   "cell_type": "code",
   "execution_count": 62,
   "id": "9d5ba9f2",
   "metadata": {},
   "outputs": [],
   "source": [
    "embedding1 = embedding.embed_query(sentence1)\n",
    "embedding2 = embedding.embed_query(sentence2)\n",
    "embedding3 = embedding.embed_query(sentence3)"
   ]
  },
  {
   "cell_type": "code",
   "execution_count": 131,
   "id": "565e0bc0-6f32-4824-9621-22f93d5b1f54",
   "metadata": {},
   "outputs": [
    {
     "data": {
      "text/plain": [
       "1536"
      ]
     },
     "execution_count": 131,
     "metadata": {},
     "output_type": "execute_result"
    }
   ],
   "source": [
    "len(embedding1)"
   ]
  },
  {
   "cell_type": "code",
   "execution_count": 64,
   "id": "66814a87",
   "metadata": {},
   "outputs": [],
   "source": [
    "import numpy as np"
   ]
  },
  {
   "cell_type": "code",
   "execution_count": 133,
   "id": "79899694",
   "metadata": {},
   "outputs": [
    {
     "data": {
      "text/plain": [
       "0.9630397143104905"
      ]
     },
     "execution_count": 133,
     "metadata": {},
     "output_type": "execute_result"
    }
   ],
   "source": [
    "np.dot(embedding1, embedding2)"
   ]
  },
  {
   "cell_type": "code",
   "execution_count": 135,
   "id": "feb4e8f4",
   "metadata": {},
   "outputs": [
    {
     "data": {
      "text/plain": [
       "0.7702742223497945"
      ]
     },
     "execution_count": 135,
     "metadata": {},
     "output_type": "execute_result"
    }
   ],
   "source": [
    "np.dot(embedding1, embedding3)"
   ]
  },
  {
   "cell_type": "code",
   "execution_count": 137,
   "id": "099823e3",
   "metadata": {},
   "outputs": [
    {
     "data": {
      "text/plain": [
       "0.7590147808716893"
      ]
     },
     "execution_count": 137,
     "metadata": {},
     "output_type": "execute_result"
    }
   ],
   "source": [
    "np.dot(embedding2, embedding3)"
   ]
  },
  {
   "cell_type": "markdown",
   "id": "5349e3b4",
   "metadata": {},
   "source": [
    "### Vectorstores"
   ]
  },
  {
   "cell_type": "code",
   "execution_count": 151,
   "id": "ba7424c9",
   "metadata": {},
   "outputs": [],
   "source": [
    "#!pip install chromadb\n",
    "from langchain.vectorstores import Chroma"
   ]
  },
  {
   "cell_type": "code",
   "execution_count": 153,
   "id": "ac304850",
   "metadata": {},
   "outputs": [],
   "source": [
    "persist_directory = './docs/chroma'"
   ]
  },
  {
   "cell_type": "code",
   "execution_count": 155,
   "id": "9177dfe5",
   "metadata": {},
   "outputs": [],
   "source": [
    "vectordb = Chroma.from_documents(\n",
    "    documents=splits,\n",
    "    embedding=embedding,\n",
    "    persist_directory=persist_directory\n",
    ")"
   ]
  },
  {
   "cell_type": "code",
   "execution_count": 156,
   "id": "19a65b5e",
   "metadata": {
    "scrolled": true
   },
   "outputs": [],
   "source": [
    "vectordb = Chroma.from_documents(documents=splits, embedding=embedding)"
   ]
  },
  {
   "cell_type": "code",
   "execution_count": 157,
   "id": "c1c3131e",
   "metadata": {
    "scrolled": true
   },
   "outputs": [
    {
     "name": "stdout",
     "output_type": "stream",
     "text": [
      "624\n"
     ]
    }
   ],
   "source": [
    "print(vectordb._collection.count())"
   ]
  },
  {
   "cell_type": "markdown",
   "id": "7f62813a",
   "metadata": {},
   "source": [
    "### Similarity Search"
   ]
  },
  {
   "cell_type": "code",
   "execution_count": 161,
   "id": "95afefa2",
   "metadata": {},
   "outputs": [],
   "source": [
    "question = \"is there an email i can ask for help\""
   ]
  },
  {
   "cell_type": "code",
   "execution_count": 163,
   "id": "b7c58919",
   "metadata": {},
   "outputs": [],
   "source": [
    "docs = vectordb.similarity_search(question,k=3) # k is number of documents "
   ]
  },
  {
   "cell_type": "code",
   "execution_count": 165,
   "id": "85a4e2f9",
   "metadata": {},
   "outputs": [
    {
     "data": {
      "text/plain": [
       "3"
      ]
     },
     "execution_count": 165,
     "metadata": {},
     "output_type": "execute_result"
    }
   ],
   "source": [
    "len(docs)"
   ]
  },
  {
   "cell_type": "code",
   "execution_count": 167,
   "id": "edd398ee",
   "metadata": {},
   "outputs": [
    {
     "data": {
      "text/plain": [
       "\"cs229-qa@cs.stanford.edu. This goes to an account that's read by all the TAs and me. So \\nrather than sending us email individually, if you send email to this account, it will \\nactually let us get back to you maximally quickly with answers to your questions.  \\nIf you're asking questions about homework problems, please say in the subject line which \\nassignment and which question the email refers to, since that will also help us to route \\nyour question to the appropriate TA or to me appropriately and get the response back to \\nyou quickly.  \\nLet's see. Skipping ahead — let's see — for homework, one midterm, one open and term \\nproject. Notice on the honor code. So one thing that I think will help you to succeed and \\ndo well in this class and even help you to enjoy this class more is if you form a study \\ngroup.  \\nSo start looking around where you're sitting now or at the end of class today, mingle a \\nlittle bit and get to know your classmates. I strongly encourage you to form study groups \\nand sort of have a group of people to study with and have a group of your fellow students \\nto talk over these concepts with. You can also post on the class newsgroup if you want to \\nuse that to try to form a study group.  \\nBut some of the problems sets in this class are reasonably difficult. People that have \\ntaken the class before may tell you they were very difficult. And just I bet it would be \\nmore fun for you, and you'd probably have a better learning experience if you form a\""
      ]
     },
     "execution_count": 167,
     "metadata": {},
     "output_type": "execute_result"
    }
   ],
   "source": [
    "docs[0].page_content"
   ]
  },
  {
   "cell_type": "code",
   "execution_count": 92,
   "id": "7a12903d",
   "metadata": {},
   "outputs": [
    {
     "data": {
      "text/plain": [
       "<langchain_community.vectorstores.chroma.Chroma at 0x1ce06120830>"
      ]
     },
     "execution_count": 92,
     "metadata": {},
     "output_type": "execute_result"
    }
   ],
   "source": [
    "vectordb"
   ]
  },
  {
   "cell_type": "markdown",
   "id": "61a88b0e",
   "metadata": {},
   "source": [
    "### Failure modes\n",
    "\n",
    "이것은 훌륭해 보이며 기본 유사성 검색을 통해 80%의 결과를 매우 쉽게 얻을 수 있습니다.\n",
    "\n",
    "그러나 서서히 나타날 수 있는 몇 가지 실패 모드가 있습니다.\n",
    "\n",
    "다음은 발생할 수 있는 몇 가지 극단적인 경우입니다. 다음 수업에서 이를 수정하겠습니다."
   ]
  },
  {
   "cell_type": "code",
   "execution_count": 172,
   "id": "9d895cdb",
   "metadata": {},
   "outputs": [],
   "source": [
    "question = \"what did they say about matlab?\""
   ]
  },
  {
   "cell_type": "code",
   "execution_count": 174,
   "id": "aed67816",
   "metadata": {},
   "outputs": [],
   "source": [
    "docs = vectordb.similarity_search(question,k=5)"
   ]
  },
  {
   "cell_type": "markdown",
   "id": "6de1e57c",
   "metadata": {},
   "source": [
    "중복 청크(인덱스에 MachineLearning-Lecture01.pdf가 중복되어 있기 때문에)가 표시됩니다.\n",
    "\n",
    "시맨틱 검색은 모든 유사한 문서를 가져오지만 다양성을 강요하지는 않습니다.\n",
    "\n",
    "docs[0]과 docs[1]은 동일합니다."
   ]
  },
  {
   "cell_type": "code",
   "execution_count": 177,
   "id": "a9b34d64",
   "metadata": {},
   "outputs": [
    {
     "data": {
      "text/plain": [
       "Document(metadata={'page': 8, 'source': 'docs/cs229_lectures/MachineLearning-Lecture01.pdf'}, page_content='those homeworks will be done in either MATLAB or in Octave, which is sort of — I \\nknow some people call it a free version of MATLAB, which it sort of is, sort of isn\\'t.  \\nSo I guess for those of you that haven\\'t seen MATLAB before, and I know most of you \\nhave, MATLAB is I guess part of the programming language that makes it very easy to \\nwrite codes using matrices, to write code for numerical routines, to move data around, to \\nplot data. And it\\'s sort of an extremely easy to learn tool to use for implementing a lot of \\nlearning algorithms.  \\nAnd in case some of you want to work on your own home computer or something if you \\ndon\\'t have a MATLAB license, for the purposes of this class, there\\'s also — [inaudible] \\nwrite that down [inaudible] MATLAB — there\\' s also a software package called Octave \\nthat you can download for free off the Internet. And it has somewhat fewer features than \\nMATLAB, but it\\'s free, and for the purposes of this class, it will work for just about \\neverything.  \\nSo actually I, well, so yeah, just a side comment for those of you that haven\\'t seen \\nMATLAB before I guess, once a colleague of mine at a different university, not at \\nStanford, actually teaches another machine learning course. He\\'s taught it for many years. \\nSo one day, he was in his office, and an old student of his from, like, ten years ago came \\ninto his office and he said, \"Oh, professor, professor, thank you so much for your')"
      ]
     },
     "execution_count": 177,
     "metadata": {},
     "output_type": "execute_result"
    }
   ],
   "source": [
    "docs[0]"
   ]
  },
  {
   "cell_type": "code",
   "execution_count": 179,
   "id": "f45ffef7",
   "metadata": {},
   "outputs": [
    {
     "data": {
      "text/plain": [
       "Document(metadata={'page': 8, 'source': 'docs/cs229_lectures/MachineLearning-Lecture01.pdf'}, page_content='those homeworks will be done in either MATLAB or in Octave, which is sort of — I \\nknow some people call it a free version of MATLAB, which it sort of is, sort of isn\\'t.  \\nSo I guess for those of you that haven\\'t seen MATLAB before, and I know most of you \\nhave, MATLAB is I guess part of the programming language that makes it very easy to \\nwrite codes using matrices, to write code for numerical routines, to move data around, to \\nplot data. And it\\'s sort of an extremely easy to learn tool to use for implementing a lot of \\nlearning algorithms.  \\nAnd in case some of you want to work on your own home computer or something if you \\ndon\\'t have a MATLAB license, for the purposes of this class, there\\'s also — [inaudible] \\nwrite that down [inaudible] MATLAB — there\\' s also a software package called Octave \\nthat you can download for free off the Internet. And it has somewhat fewer features than \\nMATLAB, but it\\'s free, and for the purposes of this class, it will work for just about \\neverything.  \\nSo actually I, well, so yeah, just a side comment for those of you that haven\\'t seen \\nMATLAB before I guess, once a colleague of mine at a different university, not at \\nStanford, actually teaches another machine learning course. He\\'s taught it for many years. \\nSo one day, he was in his office, and an old student of his from, like, ten years ago came \\ninto his office and he said, \"Oh, professor, professor, thank you so much for your')"
      ]
     },
     "execution_count": 179,
     "metadata": {},
     "output_type": "execute_result"
    }
   ],
   "source": [
    "docs[1]"
   ]
  },
  {
   "cell_type": "markdown",
   "id": "131d17b2",
   "metadata": {},
   "source": [
    "새로운 실패 모드를 볼 수 있습니다.\n",
    "\n",
    "아래 질문은 세 번째 강의에 대한 질문이지만 다른 강의의 결과도 포함됩니다."
   ]
  },
  {
   "cell_type": "code",
   "execution_count": 181,
   "id": "ac007f8c",
   "metadata": {},
   "outputs": [],
   "source": [
    "question = \"what did they say about regression in the third lecture?\""
   ]
  },
  {
   "cell_type": "code",
   "execution_count": 183,
   "id": "9719c988",
   "metadata": {},
   "outputs": [],
   "source": [
    "docs = vectordb.similarity_search(question,k=5)"
   ]
  },
  {
   "cell_type": "code",
   "execution_count": 185,
   "id": "9048118c",
   "metadata": {},
   "outputs": [
    {
     "name": "stdout",
     "output_type": "stream",
     "text": [
      "{'page': 0, 'source': 'docs/cs229_lectures/MachineLearning-Lecture03.pdf'}\n",
      "{'page': 0, 'source': 'docs/cs229_lectures/MachineLearning-Lecture03.pdf'}\n",
      "{'page': 0, 'source': 'docs/cs229_lectures/MachineLearning-Lecture03.pdf'}\n",
      "{'page': 17, 'source': 'docs/cs229_lectures/MachineLearning-Lecture02.pdf'}\n",
      "{'page': 17, 'source': 'docs/cs229_lectures/MachineLearning-Lecture02.pdf'}\n"
     ]
    }
   ],
   "source": [
    "for doc in docs:\n",
    "    print(doc.metadata)"
   ]
  },
  {
   "cell_type": "code",
   "execution_count": 189,
   "id": "439d2951",
   "metadata": {},
   "outputs": [
    {
     "name": "stdout",
     "output_type": "stream",
     "text": [
      "algebra. Okay, some of you look a little bit dazed, but this is our first learning hour. \n",
      "Aren't you excited? Any quick questions about this before we close for today?  \n",
      "Student:[Inaudible].  \n",
      "Instructor (Andrew Ng):Say that again.  \n",
      "Student:What you derived, wasn't that just [inaudible] of X?  \n",
      "Instructor (Andrew Ng):What inverse? \n",
      "Student:Pseudo inverse.  \n",
      "Instructor (Andrew Ng):Pseudo inverse?  \n",
      "Student:Pseudo inverse.  \n",
      "Instructor (Andrew Ng):Yeah, I turns out that in cases, if X transpose X is not \n",
      "invertible, than you use the pseudo inverse minimized to solve this. But it turns out X \n",
      "transpose X is not invertible. That usually means your features were dependent. It usually \n",
      "means you did something like repeat the same feature twice in your training set. So if this \n",
      "is not invertible, it turns out the minimum is obtained by the pseudo inverses of the \n",
      "inverse.  \n",
      "If you don't know what I just said, don't worry about it. It usually won't be a problem. \n",
      "Anything else?  \n",
      "Student:On the second board [inaudible]?  \n",
      "Instructor (Andrew Ng):Let me take that off. We're running over. Let's close for today \n",
      "and if they're other questions, I'll take them after.  \n",
      "[End of Audio]  \n",
      "Duration: 79 minutes\n"
     ]
    }
   ],
   "source": [
    "print(docs[3].page_content)"
   ]
  },
  {
   "cell_type": "markdown",
   "id": "855fb732",
   "metadata": {},
   "source": [
    "다음 강의에서 논의되는 접근 방식은 두 가지를 모두 해결하는 데 사용할 수 있습니다!"
   ]
  },
  {
   "cell_type": "code",
   "execution_count": null,
   "id": "f7954ea6",
   "metadata": {},
   "outputs": [],
   "source": []
  }
 ],
 "metadata": {
  "kernelspec": {
   "display_name": "Python 3 (ipykernel)",
   "language": "python",
   "name": "python3"
  },
  "language_info": {
   "codemirror_mode": {
    "name": "ipython",
    "version": 3
   },
   "file_extension": ".py",
   "mimetype": "text/x-python",
   "name": "python",
   "nbconvert_exporter": "python",
   "pygments_lexer": "ipython3",
   "version": "3.12.4"
  }
 },
 "nbformat": 4,
 "nbformat_minor": 5
}
