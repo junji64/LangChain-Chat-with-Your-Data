{
 "cells": [
  {
   "cell_type": "markdown",
   "id": "e0cd9fc2",
   "metadata": {},
   "source": [
    "# Question Answering"
   ]
  },
  {
   "cell_type": "markdown",
   "id": "e789ee1d",
   "metadata": {},
   "source": [
    "## Overview\n",
    "\n",
    "주어진 질문과 관련된 문서를 검색하는 방법에 대해 살펴봤으니,\r\n",
    "다음으로는 해당 문서를 가져와 원래 질과 함께서 언어 모델에 전달하고 질문에 답하도록 요청하는 입니다..\n",
    "\n",
    "![overview.jpeg](overview.jpeg)"
   ]
  },
  {
   "cell_type": "markdown",
   "id": "f588d693-9c0d-4da6-b237-c7c398328eb6",
   "metadata": {},
   "source": [
    "<img src=\"fig15.png\" width=\"500\">\n",
    "\n",
    "* 벡터 스토어에서 여러 관련 문서가 검색되었습니다. \n",
    "* 관련 문서들을 압축하여 LLM 컨텍스트에 맞춥니다. \n",
    "* 질문과 함께 정보를 LLM으로 보내고 받은 응답을 포맷합니다.니다."
   ]
  },
  {
   "cell_type": "markdown",
   "id": "877e547b",
   "metadata": {},
   "source": [
    "### RetrievalQA chain\n",
    "\n",
    "<img src=\"fig16.png\" width=\"400\">\n",
    "\n",
    "이에 대한 일반적인 흐름은 다음과 같습니다. \n",
    "질문이 들어오면 관련 문서를 찾은 다음 시스템 프롬프트와 질문과 함께 해당 분할을 언어 모델에 전달하고 답변을 습니다다.\r\n",
    "\r\n",
    "기본적으로 모든 청크를 동일한 컨텍스트 창, 동일한 언어 모델로합니다달한다. 이러한 방법에는 장단점이 있는데, 단점은 문서가 너무 많아 동일한 컨텍스트 창에 문서를 모두 전달할 수 없는 경우가 있다입니다점이다."
   ]
  },
  {
   "cell_type": "code",
   "execution_count": 276,
   "id": "908d48ad",
   "metadata": {},
   "outputs": [],
   "source": [
    "import os\n",
    "import openai\n",
    "import sys\n",
    "sys.path.append('../..')\n",
    "\n",
    "from dotenv import load_dotenv, find_dotenv\n",
    "_ = load_dotenv(find_dotenv()) # read local .env file\n",
    "\n",
    "openai.api_key  = os.environ['OPENAI_API_KEY']"
   ]
  },
  {
   "cell_type": "code",
   "execution_count": 277,
   "id": "571751c8",
   "metadata": {},
   "outputs": [],
   "source": [
    "from langchain.vectorstores import Chroma\n",
    "from langchain_openai import OpenAIEmbeddings\n",
    "persist_directory = 'docs/chroma/'\n",
    "embedding = OpenAIEmbeddings()\n",
    "vectordb = Chroma(\n",
    "    persist_directory=persist_directory, \n",
    "    embedding_function=embedding\n",
    ")"
   ]
  },
  {
   "cell_type": "code",
   "execution_count": 278,
   "id": "09c6855b",
   "metadata": {},
   "outputs": [
    {
     "name": "stdout",
     "output_type": "stream",
     "text": [
      "208\n"
     ]
    }
   ],
   "source": [
    "print(vectordb._collection.count())"
   ]
  },
  {
   "cell_type": "code",
   "execution_count": 279,
   "id": "a5490292",
   "metadata": {},
   "outputs": [
    {
     "data": {
      "text/plain": [
       "3"
      ]
     },
     "execution_count": 279,
     "metadata": {},
     "output_type": "execute_result"
    }
   ],
   "source": [
    "question = \"What are major topics for this class?\"\n",
    "docs = vectordb.similarity_search(question,k=3)\n",
    "len(docs)"
   ]
  },
  {
   "cell_type": "code",
   "execution_count": 280,
   "id": "67eb7907",
   "metadata": {
    "scrolled": true
   },
   "outputs": [],
   "source": [
    "from langchain_openai import ChatOpenAI\n",
    "llm = ChatOpenAI(model_name=\"gpt-3.5-turbo\", temperature=0)"
   ]
  },
  {
   "cell_type": "code",
   "execution_count": 281,
   "id": "47e8bf83",
   "metadata": {},
   "outputs": [],
   "source": [
    "from langchain.chains import RetrievalQA"
   ]
  },
  {
   "cell_type": "code",
   "execution_count": 282,
   "id": "175c5bd2",
   "metadata": {},
   "outputs": [],
   "source": [
    "qa_chain = RetrievalQA.from_chain_type(\n",
    "    llm,\n",
    "    retriever=vectordb.as_retriever()\n",
    ")"
   ]
  },
  {
   "cell_type": "code",
   "execution_count": 283,
   "id": "e722ee8c",
   "metadata": {},
   "outputs": [],
   "source": [
    "result = qa_chain.invoke(question)"
   ]
  },
  {
   "cell_type": "code",
   "execution_count": 284,
   "id": "e9abed53",
   "metadata": {},
   "outputs": [
    {
     "data": {
      "text/plain": [
       "'The major topics for this class include machine learning, statistics, and algebra. In addition to these main topics, there will be discussions covering extensions of the material taught in the main lectures.'"
      ]
     },
     "execution_count": 284,
     "metadata": {},
     "output_type": "execute_result"
    }
   ],
   "source": [
    "result[\"result\"]"
   ]
  },
  {
   "cell_type": "markdown",
   "id": "dba20387",
   "metadata": {},
   "source": [
    "### Prompt"
   ]
  },
  {
   "cell_type": "code",
   "execution_count": 286,
   "id": "1d512d41",
   "metadata": {},
   "outputs": [],
   "source": [
    "from langchain.prompts import PromptTemplate\n",
    "\n",
    "# Build prompt\n",
    "template = \"\"\"Use the following pieces of context to answer the question at the end. If you don't know the answer, just say that you don't know, don't try to make up an answer. Use three sentences maximum. Keep the answer as concise as possible. Always say \"thanks for asking!\" at the end of the answer. \n",
    "{context}\n",
    "Question: {question}\n",
    "Helpful Answer:\"\"\"\n",
    "QA_CHAIN_PROMPT = PromptTemplate.from_template(template)"
   ]
  },
  {
   "cell_type": "code",
   "execution_count": 287,
   "id": "33684971",
   "metadata": {},
   "outputs": [],
   "source": [
    "# Run chain\n",
    "qa_chain = RetrievalQA.from_chain_type(\n",
    "    llm,\n",
    "    retriever=vectordb.as_retriever(),\n",
    "    return_source_documents=True,\n",
    "    chain_type_kwargs={\"prompt\": QA_CHAIN_PROMPT}\n",
    ")"
   ]
  },
  {
   "cell_type": "code",
   "execution_count": 288,
   "id": "8e7eaba7",
   "metadata": {},
   "outputs": [],
   "source": [
    "question = \"Is probability a class topic?\""
   ]
  },
  {
   "cell_type": "code",
   "execution_count": 289,
   "id": "7c978174",
   "metadata": {},
   "outputs": [],
   "source": [
    "result = qa_chain.invoke(question)"
   ]
  },
  {
   "cell_type": "code",
   "execution_count": 290,
   "id": "aa4b149b",
   "metadata": {},
   "outputs": [
    {
     "data": {
      "text/plain": [
       "'Yes, probability is a class topic assumed to be familiar to students, as mentioned by the instructor. Thanks for asking!'"
      ]
     },
     "execution_count": 290,
     "metadata": {},
     "output_type": "execute_result"
    }
   ],
   "source": [
    "result[\"result\"]"
   ]
  },
  {
   "cell_type": "code",
   "execution_count": 291,
   "id": "68cccfb8",
   "metadata": {},
   "outputs": [
    {
     "data": {
      "text/plain": [
       "Document(metadata={'page': 4, 'source': 'docs/cs229_lectures/MachineLearning-Lecture01.pdf'}, page_content=\"of this class will not be very programming intensive, although we will do some \\nprogramming, mostly in either MATLAB or Octave. I'll say a bit more about that later.  \\nI also assume familiarity with basic probability and statistics. So most undergraduate \\nstatistics class, like Stat 116 taught here at Stanford, will be more than enough. I'm gonna \\nassume all of you know what random variables are, that all of you know what expectation \\nis, what a variance or a random variable is. And in case of some of you, it's been a while \\nsince you've seen some of this material. At some of the discussion sections, we'll actually \\ngo over some of the prerequisites, sort of as a refresher course under prerequisite class. \\nI'll say a bit more about that later as well.  \\nLastly, I also assume familiarity with basic linear algebra. And again, most undergraduate \\nlinear algebra courses are more than enough. So if you've taken courses like Math 51, \\n103, Math 113 or CS205 at Stanford, that would be more than enough. Basically, I'm \\ngonna assume that all of you know what matrixes and vectors are, that you know how to \\nmultiply matrices and vectors and multiply matrix and matrices, that you know what a \\nmatrix inverse is. If you know what an eigenvector of a matrix is, that'd be even better. \\nBut if you don't quite know or if you're not quite sure, that's fine, too. We'll go over it in \\nthe review sections.\")"
      ]
     },
     "execution_count": 291,
     "metadata": {},
     "output_type": "execute_result"
    }
   ],
   "source": [
    "result[\"source_documents\"][0]"
   ]
  },
  {
   "cell_type": "markdown",
   "id": "cd287e8c",
   "metadata": {},
   "source": [
    "### RetrievalQA chain types - Map Reduce\n",
    "\n",
    "지금까지 기본적으로 사용하는 기술인 stuff 기술을 사용했는데,\r\n",
    "기본적으로 모든 문서를 최종 프롬프트에 채워넣는 방법이다.\r\n",
    "이는 언어 모델을 한 번만 호출하면 되기 때문에 정말 좋은 방법이다.\r\n",
    "\r\n",
    "그러나 문서가 너무 많으면 컨텍스트 창에 모두 들어가지 못할 수 있다는 제한이 문서에 대한 질문 답변을 수행하는 데 사용할 수 있는 다른 유형의 기술에는 Mat_reduce, Refine, Map_rerank 등이 있으며, 이들은 언어 모델에 대한 더 많은 호출이 포함되지만 임의의 많은 문서에 대해 작동할 수 있다는 이점이 있습니다.\n",
    "\n",
    "<img src=\"fig17.png\" width=\"400\">술이다.이다."
   ]
  },
  {
   "cell_type": "code",
   "execution_count": 293,
   "id": "06cd8b73",
   "metadata": {},
   "outputs": [],
   "source": [
    "qa_chain_mr = RetrievalQA.from_chain_type(\n",
    "    llm,\n",
    "    retriever=vectordb.as_retriever(),\n",
    "    chain_type=\"map_reduce\"\n",
    ")"
   ]
  },
  {
   "cell_type": "code",
   "execution_count": 294,
   "id": "2b9d9f33",
   "metadata": {},
   "outputs": [],
   "source": [
    "result = qa_chain_mr.invoke(question)"
   ]
  },
  {
   "cell_type": "code",
   "execution_count": 295,
   "id": "faff8e95",
   "metadata": {},
   "outputs": [
    {
     "data": {
      "text/plain": [
       "'Yes, probability is a class topic in the context of machine learning algorithms. The instructor assumes familiarity with basic probability and statistics, and a probabilistic interpretation is used to derive the first classification algorithm, indicating that probability is covered in the class.'"
      ]
     },
     "execution_count": 295,
     "metadata": {},
     "output_type": "execute_result"
    }
   ],
   "source": [
    "result[\"result\"]"
   ]
  },
  {
   "cell_type": "markdown",
   "id": "4e3c1d4e",
   "metadata": {},
   "source": [
    "If you wish to experiment on the `LangChain plus platform`:\n",
    "\n",
    " * Go to [langchain plus platform](https://smith.langchain.com/) and sign up\n",
    " * Create an API key from your account's settings\n",
    " * Use this API key in the code below   \n",
    " * uncomment the code  \n",
    " Note, the endpoint in the video differs from the one below. Use the one below."
   ]
  },
  {
   "cell_type": "code",
   "execution_count": 297,
   "id": "ef5dc78a",
   "metadata": {},
   "outputs": [],
   "source": [
    "import os\n",
    "os.environ[\"LANGCHAIN_TRACING_V2\"] = \"true\"\n",
    "os.environ[\"LANGCHAIN_ENDPOINT\"] = \"https://api.smith.langchain.com\"\n",
    "os.environ[\"LANGCHAIN_API_KEY\"] = \"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\"\n",
    "from uuid import uuid4\n",
    "unique_id = uuid4().hex[0:8]\n",
    "os.environ[\"LANGCHAIN_PROJECT\"] = f\"Tracing Walkthrough - {unique_id}\""
   ]
  },
  {
   "cell_type": "code",
   "execution_count": 298,
   "id": "2b53d973",
   "metadata": {},
   "outputs": [
    {
     "data": {
      "text/plain": [
       "'Yes, probability is a class topic based on the information provided in the document.'"
      ]
     },
     "execution_count": 298,
     "metadata": {},
     "output_type": "execute_result"
    }
   ],
   "source": [
    "qa_chain_mr = RetrievalQA.from_chain_type(\n",
    "    llm,\n",
    "    retriever=vectordb.as_retriever(),\n",
    "    chain_type=\"map_reduce\"\n",
    ")\n",
    "result = qa_chain_mr.invoke(question)\n",
    "result[\"result\"]"
   ]
  },
  {
   "cell_type": "code",
   "execution_count": 299,
   "id": "b615099e",
   "metadata": {},
   "outputs": [
    {
     "data": {
      "text/plain": [
       "'Given the additional context provided, it is clear that probability will indeed be a class topic in the context of machine learning. The instructor will use a probabilistic interpretation to introduce classification algorithms, building on concepts from statistics and possibly algebra. The discussion sections will serve as a refresher for these foundational topics and also provide extensions to the material covered in the main lectures, allowing for a deeper exploration of the concepts within the field of machine learning.'"
      ]
     },
     "execution_count": 299,
     "metadata": {},
     "output_type": "execute_result"
    }
   ],
   "source": [
    "qa_chain_mr = RetrievalQA.from_chain_type(\n",
    "    llm,\n",
    "    retriever=vectordb.as_retriever(),\n",
    "    chain_type=\"refine\"\n",
    ")\n",
    "result = qa_chain_mr.invoke(question)\n",
    "result[\"result\"]"
   ]
  },
  {
   "cell_type": "markdown",
   "id": "14a81f39",
   "metadata": {},
   "source": [
    "### RetrievalQA limitations\n",
    " \n",
    "QA fails to preserve conversational history."
   ]
  },
  {
   "cell_type": "code",
   "execution_count": 301,
   "id": "4ab065f3",
   "metadata": {},
   "outputs": [],
   "source": [
    "qa_chain = RetrievalQA.from_chain_type(\n",
    "    llm,\n",
    "    retriever=vectordb.as_retriever()\n",
    ")"
   ]
  },
  {
   "cell_type": "code",
   "execution_count": 302,
   "id": "a1f2817b",
   "metadata": {},
   "outputs": [
    {
     "data": {
      "text/plain": [
       "'Yes, probability is a class topic in the course being described. The instructor assumes familiarity with basic probability and statistics, so it is likely that probability concepts will be covered in the class.'"
      ]
     },
     "execution_count": 302,
     "metadata": {},
     "output_type": "execute_result"
    }
   ],
   "source": [
    "question = \"Is probability a class topic?\"\n",
    "result = qa_chain.invoke(question)\n",
    "result[\"result\"]"
   ]
  },
  {
   "cell_type": "code",
   "execution_count": 303,
   "id": "4d6fed71",
   "metadata": {},
   "outputs": [
    {
     "data": {
      "text/plain": [
       "'The prerequisites mentioned in the context are needed because the course assumes familiarity with basic concepts in computer science, probability and statistics, and linear algebra. These prerequisites are essential for understanding and applying the machine learning algorithms taught in the class effectively.'"
      ]
     },
     "execution_count": 303,
     "metadata": {},
     "output_type": "execute_result"
    }
   ],
   "source": [
    "question = \"why are those prerequesites needed?\"\n",
    "result = qa_chain.invoke(question)\n",
    "result[\"result\"]"
   ]
  },
  {
   "cell_type": "code",
   "execution_count": null,
   "id": "149ae7d2-9ff3-4441-88bd-131d2391c10a",
   "metadata": {},
   "outputs": [],
   "source": []
  }
 ],
 "metadata": {
  "kernelspec": {
   "display_name": "Python 3 (ipykernel)",
   "language": "python",
   "name": "python3"
  },
  "language_info": {
   "codemirror_mode": {
    "name": "ipython",
    "version": 3
   },
   "file_extension": ".py",
   "mimetype": "text/x-python",
   "name": "python",
   "nbconvert_exporter": "python",
   "pygments_lexer": "ipython3",
   "version": "3.12.4"
  }
 },
 "nbformat": 4,
 "nbformat_minor": 5
}
